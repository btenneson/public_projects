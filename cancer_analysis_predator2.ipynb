{
 "cells": [
  {
   "cell_type": "code",
   "execution_count": 1,
   "metadata": {},
   "outputs": [
    {
     "name": "stdout",
     "output_type": "stream",
     "text": [
      "Optimization terminated successfully.\n",
      "         Current function value: -0.877796\n",
      "         Iterations: 13\n",
      "         Function evaluations: 3828\n",
      "Optimized bias vector: [ 2.85155882e+02  1.19882463e+01  9.31772957e+00 -3.44600531e+00\n",
      " -8.23718360e+02 -1.76470649e+04  6.20544632e+03  1.39466239e+04\n",
      " -1.46318827e+03  2.12909161e+03  3.35036753e+03 -1.24104718e+02\n",
      " -3.79893077e+01 -1.17983437e+01  9.10041725e+04 -3.20318972e+03\n",
      " -2.02049481e+04  3.84695947e+04  6.55828363e+02  7.48411810e+03\n",
      "  3.26258943e+02  5.00986123e+01  3.67983887e+00 -1.65938017e+00\n",
      "  2.66174208e+03 -3.58204016e+01  2.87251174e+03  2.77226664e+03\n",
      "  4.61496256e+03  1.52201461e+04]\n",
      "Achieved correlation: 0.8777957693340018\n"
     ]
    }
   ],
   "source": [
    "import numpy as np\n",
    "import pandas as pd\n",
    "from scipy.optimize import minimize\n",
    "\n",
    "# Load data from the GitHub raw URL\n",
    "url = \"https://raw.githubusercontent.com/btenneson/public_projects/main/Cancer_Data2.csv\"\n",
    "data = pd.read_csv(url)\n",
    "\n",
    "\n",
    "# Define the objective function to maximize the absolute correlation\n",
    "def objective_function(bias, data):\n",
    "    # Calculate synthetic scores\n",
    "    synthetic_scores = data.iloc[:, 1:].dot(bias)\n",
    "    \n",
    "    # Correlation with the first column\n",
    "    correlation = np.corrcoef(data.iloc[:, 0], synthetic_scores)[0, 1]\n",
    "    \n",
    "    # Minimize the negative absolute correlation\n",
    "    return -abs(correlation)\n",
    "\n",
    "# Initial guess for the bias vector (random values, no need to normalize)\n",
    "n_minus_1 = data.shape[1] - 1  # Assuming data includes the first column\n",
    "initial_bias = np.random.rand(n_minus_1)\n",
    "\n",
    "# Minimization process\n",
    "result = minimize(\n",
    "    objective_function,\n",
    "    initial_bias,\n",
    "    args=(data,),\n",
    "    method='Powell',\n",
    "    options={'disp': True}\n",
    ")\n",
    "\n",
    "# Check results\n",
    "if result.success:\n",
    "    optimized_bias = result.x\n",
    "    print(\"Optimized bias vector:\", optimized_bias)\n",
    "    print(\"Achieved correlation:\", -result.fun)  # Negate to show maximized correlation\n",
    "else:\n",
    "    print(\"Optimization failed:\", result.message)\n"
   ]
  },
  {
   "cell_type": "code",
   "execution_count": 2,
   "metadata": {},
   "outputs": [
    {
     "data": {
      "text/plain": [
       "30"
      ]
     },
     "execution_count": 2,
     "metadata": {},
     "output_type": "execute_result"
    }
   ],
   "source": [
    "len(optimized_bias)"
   ]
  },
  {
   "cell_type": "code",
   "execution_count": 3,
   "metadata": {},
   "outputs": [],
   "source": [
    "import numpy as np\n",
    "import pandas as pd\n",
    "from scipy.optimize import minimize\n",
    "from sklearn.linear_model import LinearRegression\n",
    "from sklearn.metrics import r2_score\n"
   ]
  },
  {
   "cell_type": "code",
   "execution_count": 4,
   "metadata": {},
   "outputs": [],
   "source": [
    "# Objective function to maximize absolute correlation\n",
    "def objective_function(bias, data):\n",
    "    synthetic_scores = data.iloc[:, 1:].dot(bias)\n",
    "    correlation = np.corrcoef(data.iloc[:, 0], synthetic_scores)[0, 1]\n",
    "    return -abs(correlation)\n"
   ]
  },
  {
   "cell_type": "code",
   "execution_count": 5,
   "metadata": {},
   "outputs": [],
   "source": [
    "# Assuming 'optimized_bias' is the bias vector obtained from optimization\n",
    "synthetic_scores = data.iloc[:, 1:].dot(optimized_bias)\n"
   ]
  },
  {
   "cell_type": "code",
   "execution_count": 6,
   "metadata": {},
   "outputs": [],
   "source": [
    "# Initialize the linear regression model\n",
    "model = LinearRegression()\n",
    "\n",
    "# The input X needs to be reshaped for fitting with sklearn (single feature)\n",
    "X = synthetic_scores.values.reshape(-1, 1)  # Predictor - synthetic scores\n",
    "y = data.iloc[:, 0].values  # Response variable from the first column\n",
    "\n",
    "# Fit the model\n",
    "model.fit(X, y)\n",
    "\n",
    "# Optional: Use the model to make predictions\n",
    "predictions = model.predict(X)\n"
   ]
  },
  {
   "cell_type": "code",
   "execution_count": 7,
   "metadata": {},
   "outputs": [
    {
     "name": "stdout",
     "output_type": "stream",
     "text": [
      "R-squared value of the fit: 0.7705254126606722\n"
     ]
    }
   ],
   "source": [
    "# Calculate the R-squared value to assess the fit\n",
    "r_squared = r2_score(y, predictions)\n",
    "print(\"R-squared value of the fit:\", r_squared)\n"
   ]
  },
  {
   "cell_type": "code",
   "execution_count": null,
   "metadata": {},
   "outputs": [],
   "source": []
  },
  {
   "cell_type": "code",
   "execution_count": null,
   "metadata": {},
   "outputs": [],
   "source": []
  },
  {
   "cell_type": "code",
   "execution_count": null,
   "metadata": {},
   "outputs": [],
   "source": []
  },
  {
   "cell_type": "code",
   "execution_count": 8,
   "metadata": {},
   "outputs": [],
   "source": [
    "# The classifier. Currently set to be triggered when the synthetic score is above 1/2\n",
    "def classify_scores(score):\n",
    "    return 1 if score > 0.5 else 0\n"
   ]
  },
  {
   "cell_type": "code",
   "execution_count": 9,
   "metadata": {},
   "outputs": [],
   "source": [
    "data['Predicted'] = synthetic_scores.apply(classify_scores)\n"
   ]
  },
  {
   "cell_type": "code",
   "execution_count": 10,
   "metadata": {},
   "outputs": [
    {
     "name": "stdout",
     "output_type": "stream",
     "text": [
      "Confusion Matrix:\n",
      " [[  0 357]\n",
      " [  0 211]]\n",
      "F1 Score: 0.5417201540436457\n"
     ]
    }
   ],
   "source": [
    "from sklearn.metrics import confusion_matrix, f1_score\n",
    "\n",
    "# Actual values\n",
    "y_true = data.iloc[:, 0].values  # assuming the first column contains the actual categorical labels\n",
    "\n",
    "# Predicted values\n",
    "y_pred = data['Predicted'].values\n",
    "\n",
    "# Compute confusion matrix\n",
    "conf_matrix = confusion_matrix(y_true, y_pred)\n",
    "print(\"Confusion Matrix:\\n\", conf_matrix)\n",
    "\n",
    "# Compute F1 score\n",
    "f1 = f1_score(y_true, y_pred)\n",
    "print(\"F1 Score:\", f1)\n"
   ]
  },
  {
   "cell_type": "code",
   "execution_count": 11,
   "metadata": {},
   "outputs": [],
   "source": [
    "from sklearn.metrics import confusion_matrix, f1_score, accuracy_score, precision_score, recall_score, roc_auc_score, roc_curve\n"
   ]
  },
  {
   "cell_type": "code",
   "execution_count": 12,
   "metadata": {},
   "outputs": [
    {
     "name": "stdout",
     "output_type": "stream",
     "text": [
      "Confusion Matrix:\n",
      " [[  0 357]\n",
      " [  0 211]]\n",
      "F1 Score: 0.5417201540436457\n",
      "Accuracy: 0.3714788732394366\n",
      "Precision: 0.3714788732394366\n",
      "Recall: 1.0\n",
      "AUC: 0.9969068195998778\n"
     ]
    },
    {
     "data": {
      "image/png": "[encoded data removed]",
      "text/plain": [
       "<Figure size 640x480 with 1 Axes>"
      ]
     },
     "metadata": {},
     "output_type": "display_data"
    }
   ],
   "source": [
    "# Assuming 'y_true' and 'y_pred' are already defined as your actual and predicted labels respectively\n",
    "\n",
    "# Confusion Matrix\n",
    "conf_matrix = confusion_matrix(y_true, y_pred)\n",
    "print(\"Confusion Matrix:\\n\", conf_matrix)\n",
    "\n",
    "# F1 Score\n",
    "f1 = f1_score(y_true, y_pred)\n",
    "print(\"F1 Score:\", f1)\n",
    "\n",
    "# Accuracy\n",
    "accuracy = accuracy_score(y_true, y_pred)\n",
    "print(\"Accuracy:\", accuracy)\n",
    "\n",
    "# Precision\n",
    "precision = precision_score(y_true, y_pred)\n",
    "print(\"Precision:\", precision)\n",
    "\n",
    "# Recall\n",
    "recall = recall_score(y_true, y_pred)\n",
    "print(\"Recall:\", recall)\n",
    "\n",
    "# AUC - using synthetic scores as proxy if probability scores not available\n",
    "# Ensure 'synthetic_scores' is a 1D array with scores for each instance\n",
    "if 'synthetic_scores' not in locals():\n",
    "    synthetic_scores = data.iloc[:, 1:].dot(optimized_bias)  # Recalculate if not available\n",
    "auc = roc_auc_score(y_true, synthetic_scores)\n",
    "print(\"AUC:\", auc)\n",
    "\n",
    "# Optional: Plot ROC Curve\n",
    "import matplotlib.pyplot as plt\n",
    "fpr, tpr, thresholds = roc_curve(y_true, synthetic_scores)\n",
    "plt.figure()\n",
    "plt.plot(fpr, tpr, label='ROC curve (area = %0.2f)' % auc)\n",
    "plt.plot([0, 1], [0, 1], 'k--')\n",
    "plt.xlim([0.0, 1.0])\n",
    "plt.ylim([0.0, 1.05])\n",
    "plt.xlabel('False Positive Rate')\n",
    "plt.ylabel('True Positive Rate')\n",
    "plt.title('Receiver Operating Characteristic')\n",
    "plt.legend(loc=\"lower right\")\n",
    "plt.show()\n"
   ]
  }
 ],
 "metadata": {
  "kernelspec": {
   "display_name": "Python 3",
   "language": "python",
   "name": "python3"
  },
  "language_info": {
   "codemirror_mode": {
    "name": "ipython",
    "version": 3
   },
   "file_extension": ".py",
   "mimetype": "text/x-python",
   "name": "python",
   "nbconvert_exporter": "python",
   "pygments_lexer": "ipython3",
   "version": "3.12.3"
  }
 },
 "nbformat": 4,
 "nbformat_minor": 2
}
